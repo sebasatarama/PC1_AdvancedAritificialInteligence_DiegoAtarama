{
  "nbformat": 4,
  "nbformat_minor": 0,
  "metadata": {
    "colab": {
      "provenance": [],
      "include_colab_link": true
    },
    "kernelspec": {
      "name": "python3",
      "display_name": "Python 3"
    },
    "language_info": {
      "name": "python"
    }
  },
  "cells": [
    {
      "cell_type": "markdown",
      "metadata": {
        "id": "view-in-github",
        "colab_type": "text"
      },
      "source": [
        "<a href=\"https://colab.research.google.com/github/sebasatarama/PC1_AdvancedAritificialInteligence_DiegoAtarama/blob/main/code/PC1_Part1.ipynb\" target=\"_parent\"><img src=\"https://colab.research.google.com/assets/colab-badge.svg\" alt=\"Open In Colab\"/></a>"
      ]
    },
    {
      "cell_type": "code",
      "source": [
        "%%file abz7\n",
        "20 15\t\t\n",
        "2\t24\t3\t12\t9\t17\t4\t27\t0\t21\t6\t25\t8\t27\t7\t26\t1\t30\t5\t31\t11\t18\t14\t16\t13\t39\t10\t19\t12\t26\n",
        "6\t30\t3\t15\t12\t20\t11\t19\t1\t24\t13\t15\t10\t28\t2\t36\t5\t26\t7\t15\t0\t11\t8\t23\t14\t20\t9\t26\t4\t28\n",
        "6\t35\t0\t22\t13\t23\t7\t32\t2\t20\t3\t12\t12\t19\t10\t23\t9\t17\t1\t14\t5\t16\t11\t29\t8\t16\t4\t22\t14\t22\n",
        "9\t20\t6\t29\t1\t19\t7\t14\t12\t33\t4\t30\t0\t32\t5\t21\t11\t29\t10\t24\t14\t25\t2\t29\t3\t13\t8\t20\t13\t18\n",
        "11\t23\t13\t20\t1\t28\t6\t32\t7\t16\t5\t18\t8\t24\t9\t23\t3\t24\t10\t34\t2\t24\t0\t24\t14\t28\t12\t15\t4\t18\n",
        "8\t24\t11\t19\t14\t21\t1\t33\t7\t34\t6\t35\t5\t40\t10\t36\t3\t23\t2\t26\t4\t15\t9\t28\t13\t38\t12\t13\t0\t25\n",
        "13\t27\t3\t30\t6\t21\t8\t19\t12\t12\t4\t27\t2\t39\t9\t13\t14\t12\t5\t36\t10\t21\t11\t17\t1\t29\t0\t17\t7\t33\n",
        "5\t27\t4\t19\t6\t29\t9\t20\t3\t21\t10\t40\t8\t14\t14\t39\t13\t39\t2\t27\t1\t36\t12\t12\t11\t37\t7\t22\t0\t13\n",
        "13\t32\t11\t29\t8\t24\t3\t27\t5\t40\t4\t21\t9\t26\t0\t27\t14\t27\t6\t16\t2\t21\t10\t13\t7\t28\t12\t28\t1\t32\n",
        "12\t35\t1\t11\t5\t39\t14\t18\t7\t23\t0\t34\t3\t24\t13\t11\t8\t30\t11\t31\t4\t15\t10\t15\t2\t28\t9\t26\t6\t33\n",
        "10\t28\t5\t37\t12\t29\t1\t31\t7\t25\t8\t13\t14\t14\t4\t20\t3\t27\t9\t25\t13\t31\t11\t14\t6\t25\t2\t39\t0\t36\n",
        "0\t22\t11\t25\t5\t28\t13\t35\t4\t31\t8\t21\t9\t20\t14\t19\t2\t29\t7\t32\t10\t18\t1\t18\t3\t11\t12\t17\t6\t15\n",
        "12\t39\t5\t32\t2\t36\t8\t14\t3\t28\t13\t37\t0\t38\t6\t20\t7\t19\t11\t12\t14\t22\t1\t36\t4\t15\t9\t32\t10\t16\n",
        "8\t28\t1\t29\t14\t40\t12\t23\t4\t34\t5\t33\t6\t27\t10\t17\t0\t20\t7\t28\t11\t21\t2\t21\t13\t20\t9\t33\t3\t27\n",
        "9\t21\t14\t34\t3\t30\t12\t38\t0\t11\t11\t16\t2\t14\t5\t14\t1\t34\t8\t33\t4\t23\t13\t40\t10\t12\t6\t23\t7\t27\n",
        "9\t13\t14\t40\t7\t36\t4\t17\t0\t13\t5\t33\t8\t25\t13\t24\t10\t23\t3\t36\t2\t29\t1\t18\t11\t13\t6\t33\t12\t13\n",
        "3\t25\t5\t15\t2\t28\t12\t40\t7\t39\t1\t31\t8\t35\t6\t31\t11\t36\t4\t12\t10\t33\t14\t19\t9\t16\t13\t27\t0\t21\n",
        "12\t22\t10\t14\t0\t12\t2\t20\t5\t12\t1\t18\t11\t17\t8\t39\t14\t31\t3\t31\t7\t32\t9\t20\t13\t29\t4\t13\t6\t26\n",
        "5\t18\t10\t30\t7\t38\t14\t22\t13\t15\t11\t20\t9\t16\t3\t17\t1\t12\t2\t13\t12\t40\t6\t17\t8\t30\t4\t38\t0\t13\n",
        "9\t31\t8\t39\t12\t27\t1\t14\t5\t33\t3\t31\t11\t22\t13\t36\t0\t16\t7\t11\t14\t14\t4\t29\t6\t28\t2\t22\t10\t17"
      ],
      "metadata": {
        "colab": {
          "base_uri": "https://localhost:8080/"
        },
        "id": "ugdSId_D5eyd",
        "outputId": "e654d537-d2f5-41d2-81f8-cbaa22ad929f"
      },
      "execution_count": 51,
      "outputs": [
        {
          "output_type": "stream",
          "name": "stdout",
          "text": [
            "Overwriting abz7\n"
          ]
        }
      ]
    },
    {
      "cell_type": "code",
      "source": [
        "%%file la24\n",
        "15\t10\t\n",
        "7\t8\t9\t75\t0\t72\t6\t74\t4\t30\t8\t43\t2\t38\t5\t98\t1\t26\t3\t19\n",
        "6\t19\t8\t73\t3\t43\t0\t23\t1\t85\t4\t39\t5\t13\t9\t26\t2\t67\t7\t9\n",
        "1\t50\t3\t93\t5\t80\t4\t7\t0\t55\t2\t61\t6\t57\t8\t72\t9\t42\t7\t46\n",
        "1\t68\t7\t43\t4\t99\t6\t60\t5\t68\t0\t91\t8\t11\t3\t96\t9\t11\t2\t72\n",
        "7\t84\t2\t34\t8\t40\t5\t7\t1\t70\t6\t74\t3\t12\t0\t43\t9\t69\t4\t30\n",
        "8\t60\t0\t49\t4\t59\t5\t72\t9\t63\t1\t69\t7\t99\t6\t45\t3\t27\t2\t9\n",
        "6\t71\t2\t91\t8\t65\t1\t90\t9\t98\t4\t8\t7\t50\t0\t75\t5\t37\t3\t17\n",
        "8\t62\t7\t90\t5\t98\t3\t31\t2\t91\t4\t38\t9\t72\t1\t9\t0\t72\t6\t49\n",
        "4\t35\t0\t39\t9\t74\t5\t25\t7\t47\t3\t52\t2\t63\t8\t21\t6\t35\t1\t80\n",
        "9\t58\t0\t5\t3\t50\t8\t52\t1\t88\t6\t20\t2\t68\t5\t24\t4\t53\t7\t57\n",
        "7\t99\t3\t91\t4\t33\t5\t19\t2\t18\t6\t38\t0\t24\t9\t35\t1\t49\t8\t9\n",
        "0\t68\t3\t60\t2\t77\t7\t10\t8\t60\t5\t15\t9\t72\t1\t18\t6\t90\t4\t18\n",
        "9\t79\t1\t60\t3\t56\t6\t91\t2\t40\t8\t86\t7\t72\t0\t80\t5\t89\t4\t51\n",
        "4\t10\t2\t92\t5\t23\t6\t46\t8\t40\t7\t72\t3\t6\t1\t23\t0\t95\t9\t34\n",
        "2\t24\t5\t29\t9\t49\t8\t55\t0\t47\t6\t77\t3\t77\t7\t8\t1\t28\t4\t48"
      ],
      "metadata": {
        "colab": {
          "base_uri": "https://localhost:8080/"
        },
        "id": "9MDUYFsF501K",
        "outputId": "4c36848a-8565-463a-868a-6db3f34742c5"
      },
      "execution_count": 27,
      "outputs": [
        {
          "output_type": "stream",
          "name": "stdout",
          "text": [
            "Writing la24\n"
          ]
        }
      ]
    },
    {
      "cell_type": "code",
      "source": [
        "%%file swv15\n",
        "50\t10\t\n",
        "2\t93\t4\t40\t0\t1\t3\t77\t1\t77\t5\t16\t9\t74\t8\t11\t6\t51\t7\t92\n",
        "0\t92\t4\t80\t1\t76\t3\t59\t2\t70\t5\t86\t9\t17\t6\t78\t7\t30\t8\t93\n",
        "1\t44\t2\t92\t3\t96\t4\t77\t0\t53\t9\t10\t7\t49\t5\t84\t8\t59\t6\t14\n",
        "1\t60\t2\t19\t3\t76\t0\t73\t4\t85\t7\t13\t8\t93\t5\t68\t9\t50\t6\t78\n",
        "2\t20\t0\t24\t3\t41\t1\t2\t4\t4\t9\t44\t7\t79\t8\t81\t5\t16\t6\t39\n",
        "3\t41\t2\t35\t1\t32\t4\t18\t0\t15\t8\t98\t6\t29\t5\t19\t7\t14\t9\t26\n",
        "1\t59\t0\t45\t4\t53\t3\t44\t2\t98\t5\t84\t6\t23\t7\t45\t8\t39\t9\t89\n",
        "1\t30\t4\t51\t3\t25\t0\t51\t2\t84\t6\t60\t5\t45\t7\t89\t8\t25\t9\t97\n",
        "0\t47\t3\t18\t2\t40\t4\t62\t1\t58\t5\t36\t7\t93\t8\t77\t9\t90\t6\t15\n",
        "3\t33\t1\t68\t0\t41\t4\t72\t2\t20\t6\t69\t7\t47\t5\t22\t9\t47\t8\t22\n",
        "2\t28\t1\t100\t4\t20\t0\t35\t3\t26\t5\t24\t9\t41\t6\t42\t7\t100\t8\t32\n",
        "0\t65\t2\t12\t4\t53\t3\t93\t1\t40\t8\t18\t7\t23\t5\t60\t6\t89\t9\t53\n",
        "0\t58\t1\t60\t4\t97\t3\t31\t2\t50\t9\t85\t5\t64\t7\t38\t6\t85\t8\t35\n",
        "3\t64\t0\t58\t1\t49\t2\t45\t4\t9\t8\t49\t6\t22\t5\t99\t9\t15\t7\t7\n",
        "0\t10\t4\t85\t3\t72\t2\t37\t1\t77\t5\t70\t7\t45\t9\t8\t6\t83\t8\t57\n",
        "4\t93\t0\t87\t1\t87\t2\t18\t3\t4\t8\t78\t5\t67\t9\t20\t6\t17\t7\t35\n",
        "4\t72\t0\t56\t3\t57\t2\t15\t1\t45\t6\t41\t5\t40\t9\t85\t8\t32\t7\t81\n",
        "0\t36\t3\t63\t4\t79\t2\t32\t1\t5\t6\t25\t7\t86\t9\t91\t5\t21\t8\t35\n",
        "2\t83\t4\t29\t0\t9\t1\t38\t3\t73\t7\t50\t9\t99\t5\t18\t8\t29\t6\t41\n",
        "0\t100\t3\t29\t2\t60\t4\t63\t1\t64\t8\t71\t6\t35\t5\t26\t9\t9\t7\t22\n",
        "1\t81\t0\t60\t3\t62\t4\t48\t2\t68\t7\t28\t5\t69\t8\t92\t6\t79\t9\t10\n",
        "0\t40\t4\t80\t1\t41\t2\t10\t3\t68\t8\t28\t9\t51\t7\t33\t6\t82\t5\t25\n",
        "4\t30\t2\t12\t0\t35\t3\t17\t1\t70\t9\t29\t7\t18\t8\t93\t6\t94\t5\t37\n",
        "1\t36\t2\t41\t3\t27\t4\t36\t0\t78\t7\t64\t6\t88\t5\t25\t9\t92\t8\t66\n",
        "2\t65\t3\t27\t4\t74\t0\t32\t1\t40\t5\t88\t8\t73\t6\t92\t7\t83\t9\t42\n",
        "0\t48\t1\t85\t2\t92\t4\t95\t3\t61\t8\t72\t9\t76\t5\t58\t7\t11\t6\t89\n",
        "3\t84\t2\t50\t0\t70\t4\t24\t1\t42\t9\t55\t5\t100\t6\t70\t7\t4\t8\t68\n",
        "0\t95\t4\t41\t2\t11\t3\t98\t1\t85\t5\t64\t6\t8\t7\t26\t8\t6\t9\t6\n",
        "0\t84\t2\t49\t1\t17\t3\t69\t4\t55\t8\t75\t6\t45\t9\t38\t7\t59\t5\t28\n",
        "2\t48\t0\t29\t4\t1\t1\t64\t3\t41\t5\t23\t7\t64\t9\t31\t6\t56\t8\t12\n",
        "2\t81\t4\t25\t3\t33\t0\t22\t1\t50\t5\t74\t9\t56\t8\t33\t7\t85\t6\t83\n",
        "1\t62\t4\t25\t0\t21\t2\t20\t3\t8\t6\t36\t9\t9\t5\t91\t8\t90\t7\t49\n",
        "1\t43\t0\t16\t2\t91\t3\t96\t4\t24\t5\t11\t9\t91\t7\t41\t8\t35\t6\t66\n",
        "1\t91\t2\t20\t4\t44\t0\t42\t3\t87\t9\t57\t6\t15\t5\t38\t8\t42\t7\t89\n",
        "0\t33\t3\t95\t4\t68\t2\t22\t1\t80\t7\t53\t8\t13\t9\t70\t5\t22\t6\t69\n",
        "0\t15\t3\t47\t1\t24\t2\t31\t4\t41\t8\t14\t9\t28\t7\t59\t5\t52\t6\t39\n",
        "2\t95\t0\t42\t4\t5\t1\t57\t3\t67\t6\t30\t9\t21\t8\t70\t5\t9\t7\t20\n",
        "2\t54\t0\t15\t1\t20\t3\t64\t4\t83\t9\t40\t7\t6\t5\t89\t6\t91\t8\t48\n",
        "0\t22\t4\t27\t1\t77\t3\t25\t2\t16\t8\t72\t9\t61\t6\t75\t7\t4\t5\t19\n",
        "3\t68\t1\t82\t2\t16\t0\t83\t4\t2\t7\t10\t8\t88\t5\t41\t9\t21\t6\t66\n",
        "1\t64\t0\t76\t2\t85\t3\t71\t4\t97\t5\t97\t7\t8\t6\t40\t8\t70\t9\t35\n",
        "0\t94\t1\t45\t2\t94\t4\t84\t3\t44\t8\t41\t5\t30\t7\t47\t6\t19\t9\t22\n",
        "2\t23\t1\t10\t0\t82\t3\t93\t4\t90\t8\t67\t7\t9\t9\t18\t5\t22\t6\t87\n",
        "0\t75\t2\t27\t4\t97\t3\t9\t1\t57\t9\t14\t5\t50\t7\t31\t8\t62\t6\t23\n",
        "1\t42\t3\t41\t2\t35\t0\t75\t4\t18\t9\t65\t7\t38\t6\t38\t8\t51\t5\t56\n",
        "4\t72\t1\t63\t0\t33\t2\t27\t3\t41\t5\t52\t7\t42\t9\t10\t6\t14\t8\t71\n",
        "2\t91\t1\t89\t0\t44\t4\t91\t3\t26\t6\t49\t5\t22\t8\t31\t9\t69\t7\t5\n",
        "3\t42\t1\t34\t0\t4\t4\t34\t2\t16\t6\t86\t7\t25\t8\t99\t5\t67\t9\t25\n",
        "4\t34\t1\t93\t0\t26\t3\t81\t2\t9\t7\t96\t8\t79\t9\t68\t5\t76\t6\t10\n",
        "3\t19\t1\t47\t4\t13\t2\t98\t0\t32\t7\t12\t9\t45\t6\t52\t8\t49\t5\t34"
      ],
      "metadata": {
        "colab": {
          "base_uri": "https://localhost:8080/"
        },
        "id": "PYYttlcU542k",
        "outputId": "91be5988-c58a-4fa7-ed53-fa4eadcee5a7"
      },
      "execution_count": 28,
      "outputs": [
        {
          "output_type": "stream",
          "name": "stdout",
          "text": [
            "Writing swv15\n"
          ]
        }
      ]
    },
    {
      "cell_type": "code",
      "source": [
        "%%file yn4\n",
        "20 20\n",
        "16\t34\t17\t38\t0\t21\t6\t15\t15\t42\t8\t17\t7\t41\t18\t10\t10\t26\t11\t24\t1\t31\t19\t25\t14\t31\t13\t33\t4\t35\t9\t30\t3\t16\t12\t16\t5\t30\t2\t13\n",
        "5\t41\t11\t33\t6\t15\t16\t38\t0\t40\t14\t38\t3\t37\t1\t20\t13\t22\t4\t34\t7\t16\t17\t39\t9\t15\t2\t19\t10\t36\t12\t39\t18\t26\t8\t19\t15\t39\t19\t34\n",
        "17\t34\t1\t12\t16\t10\t7\t47\t13\t28\t15\t27\t0\t19\t6\t34\t19\t33\t12\t40\t9\t37\t14\t24\t8\t15\t10\t34\t2\t44\t3\t37\t18\t22\t11\t31\t4\t39\t5\t26\n",
        "5\t48\t7\t46\t16\t47\t10\t45\t14\t15\t8\t25\t0\t34\t3\t24\t12\t35\t18\t15\t2\t48\t13\t19\t11\t10\t1\t48\t17\t16\t15\t28\t4\t18\t6\t17\t9\t44\t19\t41\n",
        "12\t47\t3\t23\t9\t48\t16\t45\t14\t39\t6\t42\t8\t32\t15\t11\t13\t16\t5\t14\t11\t19\t1\t46\t19\t10\t10\t17\t7\t41\t2\t47\t17\t32\t4\t17\t0\t21\t18\t17\n",
        "18\t14\t16\t20\t1\t18\t12\t14\t13\t10\t6\t16\t5\t24\t4\t18\t0\t24\t11\t18\t15\t42\t19\t13\t3\t23\t14\t40\t9\t48\t8\t12\t2\t24\t10\t23\t7\t45\t17\t30\n",
        "0\t27\t12\t15\t4\t26\t13\t19\t17\t14\t5\t49\t7\t16\t18\t28\t16\t16\t8\t20\t9\t36\t2\t21\t14\t30\t3\t36\t1\t17\t15\t22\t6\t43\t11\t32\t10\t23\t19\t17\n",
        "0\t32\t16\t15\t17\t12\t7\t46\t3\t37\t18\t43\t11\t40\t13\t43\t9\t48\t4\t36\t15\t24\t8\t25\t1\t33\t14\t32\t5\t26\t6\t37\t12\t24\t10\t24\t2\t15\t19\t22\n",
        "10\t34\t6\t33\t15\t25\t8\t46\t0\t20\t18\t33\t4\t19\t13\t45\t2\t47\t1\t32\t3\t12\t11\t29\t16\t29\t5\t46\t12\t17\t7\t48\t14\t39\t17\t40\t19\t41\t9\t37\n",
        "13\t26\t3\t47\t5\t44\t6\t49\t1\t22\t17\t12\t10\t28\t19\t36\t9\t27\t4\t25\t14\t48\t7\t11\t16\t49\t12\t24\t11\t48\t2\t19\t0\t47\t18\t49\t8\t46\t15\t36\n",
        "13\t23\t18\t48\t14\t15\t0\t42\t3\t36\t8\t15\t6\t32\t10\t18\t1\t45\t15\t23\t11\t45\t2\t13\t17\t21\t12\t32\t7\t44\t5\t25\t19\t34\t16\t22\t9\t11\t4\t43\n",
        "17\t37\t7\t49\t15\t45\t2\t28\t9\t15\t8\t35\t12\t29\t13\t44\t1\t26\t4\t25\t5\t30\t3\t39\t0\t15\t14\t28\t18\t23\t6\t42\t11\t33\t16\t45\t10\t10\t19\t20\n",
        "0\t10\t6\t37\t3\t15\t13\t13\t10\t11\t2\t49\t1\t28\t14\t28\t15\t13\t8\t29\t12\t21\t16\t32\t11\t21\t4\t48\t5\t11\t17\t26\t9\t33\t18\t22\t7\t21\t19\t49\n",
        "18\t38\t0\t41\t4\t30\t13\t43\t6\t11\t2\t43\t14\t27\t3\t26\t9\t30\t15\t19\t16\t36\t1\t31\t17\t47\t5\t41\t10\t34\t8\t40\t12\t32\t7\t13\t11\t18\t19\t27\n",
        "6\t24\t5\t30\t7\t10\t10\t35\t8\t28\t16\t43\t19\t12\t9\t44\t15\t15\t3\t15\t2\t35\t18\t43\t0\t38\t4\t16\t1\t29\t17\t40\t14\t49\t13\t38\t12\t16\t11\t30\n",
        "3\t48\t6\t35\t13\t43\t2\t37\t17\t18\t5\t27\t9\t27\t7\t41\t1\t22\t15\t28\t16\t18\t10\t37\t18\t48\t4\t10\t8\t14\t11\t18\t14\t43\t0\t48\t12\t12\t19\t49\n",
        "0\t13\t13\t38\t7\t34\t6\t42\t1\t36\t5\t45\t18\t24\t8\t35\t14\t26\t19\t30\t12\t47\t16\t24\t11\t47\t4\t40\t10\t43\t3\t16\t15\t10\t2\t12\t9\t39\t17\t22\n",
        "16\t30\t13\t47\t19\t49\t8\t20\t4\t40\t3\t46\t17\t21\t14\t33\t6\t44\t7\t23\t9\t24\t0\t48\t10\t43\t15\t41\t2\t32\t5\t29\t11\t36\t1\t38\t12\t47\t18\t12\n",
        "13\t10\t5\t36\t12\t18\t16\t48\t0\t27\t14\t43\t10\t46\t6\t27\t7\t46\t19\t35\t11\t31\t2\t18\t8\t24\t3\t23\t17\t29\t18\t14\t9\t19\t1\t40\t15\t38\t4\t13\n",
        "9\t45\t16\t44\t0\t43\t17\t31\t14\t35\t13\t17\t12\t42\t3\t14\t18\t37\t10\t39\t6\t48\t7\t38\t15\t26\t4\t49\t2\t28\t11\t35\t1\t42\t5\t24\t8\t44\t19\t38\n"
      ],
      "metadata": {
        "colab": {
          "base_uri": "https://localhost:8080/"
        },
        "id": "27HEA6C96Dz3",
        "outputId": "5e2692de-6a30-42ae-f838-7ef2ac847d24"
      },
      "execution_count": 116,
      "outputs": [
        {
          "output_type": "stream",
          "name": "stdout",
          "text": [
            "Overwriting yn4\n"
          ]
        }
      ]
    },
    {
      "cell_type": "code",
      "source": [
        "import numpy as np\n",
        "import random\n",
        "import matplotlib.pyplot as plt\n",
        "import datetime\n",
        "from statistics import mean, median"
      ],
      "metadata": {
        "id": "KOjBZCao83C6"
      },
      "execution_count": 86,
      "outputs": []
    },
    {
      "cell_type": "code",
      "source": [
        "def _RandomSampleSolution(instance):\n",
        "  with open(instance) as f:\n",
        "    n, m = [int(x) for x in f.readline().split()]\n",
        "    jobs = np.zeros((n, m, 2), dtype=int)\n",
        "    i = 0\n",
        "    for line in f:\n",
        "        jobs[i] = np.array([int(x) for x in line.split()]).reshape(m, 2)\n",
        "        i += 1\n",
        "  solutions = []\n",
        "  makespans = []\n",
        "  endTime = datetime.datetime.now() + datetime.timedelta(minutes=0.15)\n",
        "  rep = [i for i in range(n)]*m\n",
        "  random.shuffle(rep)\n",
        "  while True:\n",
        "    if datetime.datetime.now() >= endTime:\n",
        "      break\n",
        "    mstart = np.zeros((m), dtype=int)\n",
        "    jend = np.zeros((n), dtype=int)\n",
        "    idxs = np.zeros((n), dtype=int)\n",
        "    makespan = 0\n",
        "    for e in rep:\n",
        "      i = idxs[e]\n",
        "      idxs[e] += 1\n",
        "      midx = jobs[e, i, 0]\n",
        "      time = jobs[e, i, 1]\n",
        "      mstart[midx] = max(mstart[midx], jend[e]) + time\n",
        "      jend[e] = mstart[midx]\n",
        "      if mstart[midx] > makespan:\n",
        "        makespan = mstart[midx]\n",
        "    makespans.append(makespan)\n",
        "    solutions.append(rep)\n",
        "    random.shuffle(rep)\n",
        "  return solutions, makespans, n, m, jobs"
      ],
      "metadata": {
        "id": "n_uShysq2bcb"
      },
      "execution_count": 122,
      "outputs": []
    },
    {
      "cell_type": "code",
      "source": [
        "def RandomSampleSolution(instance, w = 20, h = 20):\n",
        "  solutions, makespans, n, m, jobs = _RandomSampleSolution(instance)\n",
        "  best = solutions[makespans.index(min(makespans))]\n",
        "  bmakespan = min(makespans)\n",
        "  mstart = np.zeros((m), dtype=int)\n",
        "  jend = np.zeros((n), dtype=int)\n",
        "  idxs = np.zeros((n), dtype=int)\n",
        "  schedule = np.zeros((m*10, bmakespan))\n",
        "  for e in best:\n",
        "    i = idxs[e]\n",
        "    idxs[e] += 1\n",
        "    midx = jobs[e, i, 0]\n",
        "    time = jobs[e, i, 1]\n",
        "    mstart[midx] = max(mstart[midx], jend[e])\n",
        "    schedule[midx*10:(midx+1)*10, mstart[midx]:mstart[midx] + time] = e+1\n",
        "    mstart[midx] += time\n",
        "    jend[e] = mstart[midx]\n",
        "  print(f'Best: {bmakespan}')\n",
        "  print(f'Mean: {mean(makespans)}')\n",
        "  print(f'Med: {median(makespans)}')\n",
        "  print(f'Sd: {np.std(makespans)}')\n",
        "  plt.figure(figsize = (w,h))\n",
        "  plt.imshow(schedule)"
      ],
      "metadata": {
        "id": "0tUSJo05-6Uc"
      },
      "execution_count": 117,
      "outputs": []
    },
    {
      "cell_type": "code",
      "source": [
        "RandomSampleSolution('abz7')"
      ],
      "metadata": {
        "colab": {
          "base_uri": "https://localhost:8080/",
          "height": 287
        },
        "id": "XKc1uhyBL-xT",
        "outputId": "12677c8e-6a18-43f7-e726-4b7f30fffc47"
      },
      "execution_count": 112,
      "outputs": [
        {
          "output_type": "stream",
          "name": "stdout",
          "text": [
            "Best: 1003\n",
            "Mean: 1324\n",
            "Med: 1319\n",
            "Sd: 94.66478612441723\n"
          ]
        },
        {
          "output_type": "display_data",
          "data": {
            "text/plain": [
              "<Figure size 1440x1440 with 1 Axes>"
            ],
            "image/png": "[encoded data removed]"
          },
          "metadata": {
            "needs_background": "light"
          }
        }
      ]
    },
    {
      "cell_type": "code",
      "source": [
        "RandomSampleSolution('la24')"
      ],
      "metadata": {
        "colab": {
          "base_uri": "https://localhost:8080/",
          "height": 208
        },
        "id": "KFcQl8WYMCMF",
        "outputId": "ea7cc6b1-2b4d-4667-8101-fd15ddbad1cf"
      },
      "execution_count": 113,
      "outputs": [
        {
          "output_type": "stream",
          "name": "stdout",
          "text": [
            "Best: 1280\n",
            "Mean: 1838\n",
            "Med: 1828\n",
            "Sd: 168.0149534718512\n"
          ]
        },
        {
          "output_type": "display_data",
          "data": {
            "text/plain": [
              "<Figure size 1440x1440 with 1 Axes>"
            ],
            "image/png": "[encoded data removed]"
          },
          "metadata": {
            "needs_background": "light"
          }
        }
      ]
    },
    {
      "cell_type": "code",
      "source": [
        "RandomSampleSolution('swv15', 40, 40)"
      ],
      "metadata": {
        "colab": {
          "base_uri": "https://localhost:8080/",
          "height": 134
        },
        "id": "NV6Q9FhjMFYQ",
        "outputId": "660cacc5-27a1-4145-b332-61e984e28ea1"
      },
      "execution_count": 125,
      "outputs": [
        {
          "output_type": "stream",
          "name": "stdout",
          "text": [
            "Best: 5399\n",
            "Mean: 6525\n",
            "Med: 6516\n",
            "Sd: 322.0429594544096\n"
          ]
        },
        {
          "output_type": "display_data",
          "data": {
            "text/plain": [
              "<Figure size 2880x2880 with 1 Axes>"
            ],
            "image/png": "[encoded data removed]"
          },
          "metadata": {
            "needs_background": "light"
          }
        }
      ]
    },
    {
      "cell_type": "code",
      "source": [
        "RandomSampleSolution('yn4')"
      ],
      "metadata": {
        "colab": {
          "base_uri": "https://localhost:8080/",
          "height": 262
        },
        "id": "sqPQgISvMF94",
        "outputId": "b4450947-e4c7-4b65-ef36-410ea0f54182"
      },
      "execution_count": 119,
      "outputs": [
        {
          "output_type": "stream",
          "name": "stdout",
          "text": [
            "Best: 1582\n",
            "Mean: 2023\n",
            "Med: 2018\n",
            "Sd: 128.78963233371144\n"
          ]
        },
        {
          "output_type": "display_data",
          "data": {
            "text/plain": [
              "<Figure size 1440x1440 with 1 Axes>"
            ],
            "image/png": "[encoded data removed]"
          },
          "metadata": {
            "needs_background": "light"
          }
        }
      ]
    },
    {
      "cell_type": "code",
      "source": [
        "import random\n",
        "def shuffle(a):\n",
        "  n = len(a)\n",
        "  for i in range(n -1, 0, -1):\n",
        "    j = random.randint(0, i-1)\n",
        "    a[i], a[j] = a[j], a[i]"
      ],
      "metadata": {
        "id": "HdFTQrTVPJsF"
      },
      "execution_count": 10,
      "outputs": []
    },
    {
      "cell_type": "code",
      "source": [
        "a = [i for i in range(25)]\n",
        "shuffle(a)\n",
        "print(a)"
      ],
      "metadata": {
        "colab": {
          "base_uri": "https://localhost:8080/"
        },
        "id": "HZ_5_cS5p4fS",
        "outputId": "b0b72a48-0d2e-4e33-956d-f9573ecb55f3"
      },
      "execution_count": 8,
      "outputs": [
        {
          "output_type": "stream",
          "name": "stdout",
          "text": [
            "[3, 13, 22, 17, 1, 18, 5, 19, 9, 16, 0, 10, 15, 12, 23, 20, 2, 24, 7, 11, 8, 4, 6, 21, 14]\n"
          ]
        }
      ]
    },
    {
      "cell_type": "code",
      "source": [],
      "metadata": {
        "id": "Qld3Utk5p-72"
      },
      "execution_count": 8,
      "outputs": []
    }
  ]
}